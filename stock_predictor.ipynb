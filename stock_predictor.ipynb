{
 "cells": [
  {
   "cell_type": "code",
   "execution_count": 1,
   "id": "586b5062",
   "metadata": {},
   "outputs": [],
   "source": [
    "import pandas as pd\n",
    "import numpy as np\n",
    "\n",
    "import matplotlib.pyplot as plt\n",
    "%matplotlib inline\n",
    "from matplotlib import rcParams\n",
    "\n",
    "rcParams['figure.figsize'] = 20,10 #sets figure size\n",
    "from keras.models import Sequential #defines a linear stack of layers for deep learning models\n",
    "from keras.layers import LSTM,Dropout,Dense \n",
    "# LSTM = great for sequential data like stock prices\n",
    "# Dropout = tool used to help prevent overfitting by randomly dropping connections in the neural network\n",
    "# Dense = a fully connected layer\n",
    "\n",
    "from sklearn.preprocessing import MinMaxScaler #normalisation technique"
   ]
  }
 ],
 "metadata": {
  "kernelspec": {
   "display_name": "Python (tensorflow_env)",
   "language": "python",
   "name": "tensorflow_env"
  },
  "language_info": {
   "codemirror_mode": {
    "name": "ipython",
    "version": 3
   },
   "file_extension": ".py",
   "mimetype": "text/x-python",
   "name": "python",
   "nbconvert_exporter": "python",
   "pygments_lexer": "ipython3",
   "version": "3.12.7"
  }
 },
 "nbformat": 4,
 "nbformat_minor": 5
}
